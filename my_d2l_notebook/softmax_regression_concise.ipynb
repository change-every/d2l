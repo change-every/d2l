{
 "cells": [
  {
   "cell_type": "code",
   "execution_count": 2,
   "id": "7a2a73f5-b4bd-40ab-94c4-30d455e9066c",
   "metadata": {},
   "outputs": [],
   "source": [
    "import torch\n",
    "from d2l import torch as d2l\n",
    "from torch import nn"
   ]
  },
  {
   "cell_type": "code",
   "execution_count": 3,
   "id": "1f19936b-64b3-4c73-afdf-20c12af414e7",
   "metadata": {},
   "outputs": [],
   "source": [
    "batch_size = 256\n",
    "\n",
    "train_iter, test_iter = d2l.load_data_fashion_mnist(batch_size)"
   ]
  },
  {
   "cell_type": "code",
   "execution_count": 5,
   "id": "c5c1c37e-bca6-423c-9468-5534fcd54e50",
   "metadata": {},
   "outputs": [
    {
     "data": {
      "text/plain": [
       "Sequential(\n",
       "  (0): Flatten(start_dim=1, end_dim=-1)\n",
       "  (1): Linear(in_features=784, out_features=10, bias=True)\n",
       ")"
      ]
     },
     "execution_count": 5,
     "metadata": {},
     "output_type": "execute_result"
    }
   ],
   "source": [
    "net = nn.Sequential(nn.Flatten(), nn.Linear(28*28, 10)) # 图片进来需要先展平\n",
    "\n",
    "# 初始化网络参数\n",
    "def init_weights(m):\n",
    "    if type(m) == nn.Linear:\n",
    "        nn.init.normal_(m.weight, 0.01)  # 正态分布normal_初始化\n",
    "        \n",
    "net.apply(init_weights) # 将初始化函数应用到网络的所有层"
   ]
  },
  {
   "cell_type": "code",
   "execution_count": 6,
   "id": "2f205663-79d4-4ac7-ab37-6d1cc023eda6",
   "metadata": {},
   "outputs": [],
   "source": [
    "loss = nn.CrossEntropyLoss()\n",
    "\n",
    "updater = torch.optim.SGD(net.parameters(), lr=0.3)"
   ]
  },
  {
   "cell_type": "code",
   "execution_count": null,
   "id": "52bc14a4-1c2c-4a38-8f1d-b87ad07ef5b1",
   "metadata": {},
   "outputs": [],
   "source": [
    "num_epochs = 15\n",
    "d2l.train_ch3(net, train_iter, test_iter, loss, num_epochs, updater)"
   ]
  },
  {
   "cell_type": "code",
   "execution_count": 7,
   "id": "2bf0c8b6-70bb-4753-9019-20f9b280901c",
   "metadata": {},
   "outputs": [
    {
     "name": "stdout",
     "output_type": "stream",
     "text": [
      "Help on function train_ch3 in module d2l.torch:\n",
      "\n",
      "train_ch3(net, train_iter, test_iter, loss, num_epochs, updater)\n",
      "    Train a model (defined in Chapter 3).\n",
      "\n"
     ]
    }
   ],
   "source": [
    "help(d2l.train_ch3)"
   ]
  }
 ],
 "metadata": {
  "kernelspec": {
   "display_name": "d2l:Python",
   "language": "python",
   "name": "conda-env-d2l-py"
  },
  "language_info": {
   "codemirror_mode": {
    "name": "ipython",
    "version": 3
   },
   "file_extension": ".py",
   "mimetype": "text/x-python",
   "name": "python",
   "nbconvert_exporter": "python",
   "pygments_lexer": "ipython3",
   "version": "3.9.16"
  }
 },
 "nbformat": 4,
 "nbformat_minor": 5
}
